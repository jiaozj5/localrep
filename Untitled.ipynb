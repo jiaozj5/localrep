{
 "cells": [
  {
   "cell_type": "code",
   "execution_count": 1,
   "id": "25aeb6ad-d8ca-4b8f-ae1e-7c84a0f83c7a",
   "metadata": {},
   "outputs": [
    {
     "data": {
      "text/plain": [
       "<git.Commit \"2203afbd96734227d5c5f9719f2868664f7a1216\">"
      ]
     },
     "execution_count": 1,
     "metadata": {},
     "output_type": "execute_result"
    }
   ],
   "source": [
    "import cv2\n",
    "import os\n",
    "import git\n",
    "\n",
    "# 指定保存照片的路径\n",
    "save_path = 'C:\\\\Users\\\\admin\\\\Desktop\\\\rep2_for github'\n",
    "repo_path = save_path\n",
    "\n",
    "if not os.path.exists(save_path):\n",
    "    os.makedirs(save_path)\n",
    "\n",
    "cap = cv2.VideoCapture(0)\n",
    "\n",
    "while True:\n",
    "    ret, frame = cap.read()\n",
    "    cv2.imshow('Camera', frame)\n",
    "    key = cv2.waitKey(1)\n",
    "    if key == ord('p'):\n",
    "        # 拍照并保存到指定路径，如有同名文件则覆盖\n",
    "        photo = frame\n",
    "        file_name = os.path.join(save_path, 'captured_photo.jpg')\n",
    "        if os.path.exists(file_name):\n",
    "            os.remove(file_name)\n",
    "        cv2.imwrite(file_name, photo)\n",
    "        break\n",
    "\n",
    "cap.release()\n",
    "cv2.destroyAllWindows()\n",
    "\n",
    "import git\n",
    "\n",
    "new_name = 'captured_photo.jpg'\n",
    "repo_path = save_path\n",
    "\n",
    "new_name = 'captured_photo.jpg'\n",
    "repo = git.Repo(repo_path)\n",
    "\n",
    "file_path = repo_path + '/' + new_name\n",
    "# 检查文件是否已存在于仓库中，如果存在则删除\n",
    "for item in repo.index.diff(None):\n",
    "    if item.a_path == new_name:\n",
    "        repo.index.remove([item.a_path])\n",
    "\n",
    "# 将照片添加到仓库\n",
    "repo.index.add([file_path])\n",
    "\n",
    "# 提交更改\n",
    "repo.index.commit(f'Update {new_name}')\n",
    "\n"
   ]
  },
  {
   "cell_type": "code",
   "execution_count": 5,
   "id": "730bd81c-0a2d-48cf-921e-d9b4d1563536",
   "metadata": {},
   "outputs": [
    {
     "name": "stdout",
     "output_type": "stream",
     "text": [
      "Changed directory to ./\n",
      "\n",
      "Started SSH agent.\n",
      "\n",
      "Added SSH key: C:/Users/admin/Desktop/rep_for_gitub/ssh/id_rsa\n",
      "3072 SHA256:whT9TOnNUiwZW4jzEhVvkJFPX7P6acr/xSlwReqMmqI local (RSA)\n",
      "\n",
      "Authenticated successfully, proceeding without shell access.\n",
      "SSH connection to GitHub successful.\n"
     ]
    }
   ],
   "source": [
    "import subprocess\n",
    "import os\n",
    "import sys\n",
    "\n",
    "def run_command(command):\n",
    "    try:\n",
    "        result = subprocess.run(command, capture_output=True, text=True, check=True)\n",
    "        print(result.stdout)\n",
    "    except subprocess.CalledProcessError as e:\n",
    "        # 忽略 \"does not provide shell access\" 错误\n",
    "        if \"does not provide shell access\" in e.stderr:\n",
    "            print(\"Authenticated successfully, proceeding without shell access.\")\n",
    "        else:\n",
    "            print(f\"Command failed with error: {e.stderr}\")\n",
    "            raise  # 如果是其他错误，重新引发异常\n",
    "\n",
    "# 1. 更改到项目目录\n",
    "project_path = \"./\"  # 请替换为你的项目路径\n",
    "os.chdir(project_path)\n",
    "print(f\"Changed directory to {project_path}\")\n",
    "\n",
    "# 2. 启动 SSH 代理\n",
    "ssh_agent_output = run_command([\"ssh-agent\", \"-s\"])\n",
    "print(\"Started SSH agent.\")\n",
    "\n",
    "# 3. 添加 SSH 私钥\n",
    "ssh_key_path = \"C:/Users/admin/Desktop/rep_for_gitub/ssh/id_rsa\"  # 请替换为你的SSH密钥路径\n",
    "run_command([\"ssh-add\", ssh_key_path])\n",
    "print(f\"Added SSH key: {ssh_key_path}\")\n",
    "\n",
    "# 4. 列出 SSH 密钥 (可选)\n",
    "run_command([\"ssh-add\", \"-l\"])\n",
    "\n",
    "# 5. 测试 SSH 连接到 GitHub\n",
    "run_command([\"ssh\", \"-T\", \"git@github.com\"])\n",
    "print(\"SSH connection to GitHub successful.\")\n",
    "\n",
    "# # 6. 添加远程仓库\n",
    "# repository_url = \"git@github.com:jiaozj5/underg_2.5_images.git\"  # 请替换为你的远程仓库地址\n",
    "# run_command([\"git\", \"remote\", \"add\", \"origin\", repository_url])\n",
    "# print(f\"Added remote repository: {repository_url}\")"
   ]
  },
  {
   "cell_type": "code",
   "execution_count": 9,
   "id": "9593651f-5f0d-4b71-bb7b-3cdf023763fb",
   "metadata": {},
   "outputs": [
    {
     "name": "stdout",
     "output_type": "stream",
     "text": [
      "Resetting all staged files...\n",
      "Unstaged changes after reset:\n",
      "M\t.ipynb_checkpoints/Untitled-checkpoint.ipynb\n",
      "M\tUntitled.ipynb\n",
      "D\t鏂板缓 鏂囨湰鏂囨。.txt\n",
      "\n",
      "\n",
      "\n",
      "\n",
      "Specified files have been staged.\n",
      "Command failed with error: \n"
     ]
    },
    {
     "ename": "CalledProcessError",
     "evalue": "Command '['git', 'commit', '-m', 'Your commit message']' returned non-zero exit status 1.",
     "output_type": "error",
     "traceback": [
      "\u001b[1;31m---------------------------------------------------------------------------\u001b[0m",
      "\u001b[1;31mCalledProcessError\u001b[0m                        Traceback (most recent call last)",
      "Cell \u001b[1;32mIn[9], line 23\u001b[0m\n\u001b[0;32m     21\u001b[0m \u001b[38;5;66;03m# 8. 提交更改\u001b[39;00m\n\u001b[0;32m     22\u001b[0m commit_message \u001b[38;5;241m=\u001b[39m \u001b[38;5;124m\"\u001b[39m\u001b[38;5;124mYour commit message\u001b[39m\u001b[38;5;124m\"\u001b[39m  \u001b[38;5;66;03m# 请替换为你的提交消息\u001b[39;00m\n\u001b[1;32m---> 23\u001b[0m \u001b[43mrun_command\u001b[49m\u001b[43m(\u001b[49m\u001b[43m[\u001b[49m\u001b[38;5;124;43m\"\u001b[39;49m\u001b[38;5;124;43mgit\u001b[39;49m\u001b[38;5;124;43m\"\u001b[39;49m\u001b[43m,\u001b[49m\u001b[43m \u001b[49m\u001b[38;5;124;43m\"\u001b[39;49m\u001b[38;5;124;43mcommit\u001b[39;49m\u001b[38;5;124;43m\"\u001b[39;49m\u001b[43m,\u001b[49m\u001b[43m \u001b[49m\u001b[38;5;124;43m\"\u001b[39;49m\u001b[38;5;124;43m-m\u001b[39;49m\u001b[38;5;124;43m\"\u001b[39;49m\u001b[43m,\u001b[49m\u001b[43m \u001b[49m\u001b[43mcommit_message\u001b[49m\u001b[43m]\u001b[49m\u001b[43m)\u001b[49m\n\u001b[0;32m     24\u001b[0m \u001b[38;5;28mprint\u001b[39m(\u001b[38;5;124mf\u001b[39m\u001b[38;5;124m\"\u001b[39m\u001b[38;5;124mCommitted changes with message: \u001b[39m\u001b[38;5;124m'\u001b[39m\u001b[38;5;132;01m{\u001b[39;00mcommit_message\u001b[38;5;132;01m}\u001b[39;00m\u001b[38;5;124m'\u001b[39m\u001b[38;5;124m\"\u001b[39m)\n",
      "Cell \u001b[1;32mIn[5], line 7\u001b[0m, in \u001b[0;36mrun_command\u001b[1;34m(command)\u001b[0m\n\u001b[0;32m      5\u001b[0m \u001b[38;5;28;01mdef\u001b[39;00m \u001b[38;5;21mrun_command\u001b[39m(command):\n\u001b[0;32m      6\u001b[0m     \u001b[38;5;28;01mtry\u001b[39;00m:\n\u001b[1;32m----> 7\u001b[0m         result \u001b[38;5;241m=\u001b[39m \u001b[43msubprocess\u001b[49m\u001b[38;5;241;43m.\u001b[39;49m\u001b[43mrun\u001b[49m\u001b[43m(\u001b[49m\u001b[43mcommand\u001b[49m\u001b[43m,\u001b[49m\u001b[43m \u001b[49m\u001b[43mcapture_output\u001b[49m\u001b[38;5;241;43m=\u001b[39;49m\u001b[38;5;28;43;01mTrue\u001b[39;49;00m\u001b[43m,\u001b[49m\u001b[43m \u001b[49m\u001b[43mtext\u001b[49m\u001b[38;5;241;43m=\u001b[39;49m\u001b[38;5;28;43;01mTrue\u001b[39;49;00m\u001b[43m,\u001b[49m\u001b[43m \u001b[49m\u001b[43mcheck\u001b[49m\u001b[38;5;241;43m=\u001b[39;49m\u001b[38;5;28;43;01mTrue\u001b[39;49;00m\u001b[43m)\u001b[49m\n\u001b[0;32m      8\u001b[0m         \u001b[38;5;28mprint\u001b[39m(result\u001b[38;5;241m.\u001b[39mstdout)\n\u001b[0;32m      9\u001b[0m     \u001b[38;5;28;01mexcept\u001b[39;00m subprocess\u001b[38;5;241m.\u001b[39mCalledProcessError \u001b[38;5;28;01mas\u001b[39;00m e:\n\u001b[0;32m     10\u001b[0m         \u001b[38;5;66;03m# 忽略 \"does not provide shell access\" 错误\u001b[39;00m\n",
      "File \u001b[1;32m~\\miniconda3\\envs\\dl\\lib\\subprocess.py:528\u001b[0m, in \u001b[0;36mrun\u001b[1;34m(input, capture_output, timeout, check, *popenargs, **kwargs)\u001b[0m\n\u001b[0;32m    526\u001b[0m     retcode \u001b[38;5;241m=\u001b[39m process\u001b[38;5;241m.\u001b[39mpoll()\n\u001b[0;32m    527\u001b[0m     \u001b[38;5;28;01mif\u001b[39;00m check \u001b[38;5;129;01mand\u001b[39;00m retcode:\n\u001b[1;32m--> 528\u001b[0m         \u001b[38;5;28;01mraise\u001b[39;00m CalledProcessError(retcode, process\u001b[38;5;241m.\u001b[39margs,\n\u001b[0;32m    529\u001b[0m                                  output\u001b[38;5;241m=\u001b[39mstdout, stderr\u001b[38;5;241m=\u001b[39mstderr)\n\u001b[0;32m    530\u001b[0m \u001b[38;5;28;01mreturn\u001b[39;00m CompletedProcess(process\u001b[38;5;241m.\u001b[39margs, retcode, stdout, stderr)\n",
      "\u001b[1;31mCalledProcessError\u001b[0m: Command '['git', 'commit', '-m', 'Your commit message']' returned non-zero exit status 1."
     ]
    }
   ],
   "source": [
    "# 7. 添加所有文件到暂存区\n",
    "# 指定要添加的文件列表\n",
    "files_to_add = [\"audio_test.mp3\",\"captured_photo.jpg\", \"example.txt\"]\n",
    "\n",
    "for file in files_to_add:\n",
    "    run_command([\"git\", \"add\", file])\n",
    "\n",
    "print(\"Specified files have been staged.\")\n",
    "\n",
    "\n",
    "\n",
    "# 8. 提交更改\n",
    "commit_message = \"Your commit message\"  # 请替换为你的提交消息\n",
    "run_command([\"git\", \"commit\", \"-m\", commit_message])\n",
    "print(f\"Committed changes with message: '{commit_message}'\")"
   ]
  },
  {
   "cell_type": "code",
   "execution_count": 7,
   "id": "f511abb4-acd9-4ce7-bc1e-fcde4f1db980",
   "metadata": {},
   "outputs": [
    {
     "name": "stdout",
     "output_type": "stream",
     "text": [
      "Command failed with error: git@github.com: Permission denied (publickey).\n",
      "fatal: Could not read from remote repository.\n",
      "\n",
      "Please make sure you have the correct access rights\n",
      "and the repository exists.\n",
      "\n"
     ]
    },
    {
     "ename": "CalledProcessError",
     "evalue": "Command '['git', 'push', '-u', 'origin', 'master']' returned non-zero exit status 128.",
     "output_type": "error",
     "traceback": [
      "\u001b[1;31m---------------------------------------------------------------------------\u001b[0m",
      "\u001b[1;31mCalledProcessError\u001b[0m                        Traceback (most recent call last)",
      "Cell \u001b[1;32mIn[7], line 2\u001b[0m\n\u001b[0;32m      1\u001b[0m \u001b[38;5;66;03m# 9. 推送到远程仓库\u001b[39;00m\n\u001b[1;32m----> 2\u001b[0m \u001b[43mrun_command\u001b[49m\u001b[43m(\u001b[49m\u001b[43m[\u001b[49m\u001b[38;5;124;43m\"\u001b[39;49m\u001b[38;5;124;43mgit\u001b[39;49m\u001b[38;5;124;43m\"\u001b[39;49m\u001b[43m,\u001b[49m\u001b[43m \u001b[49m\u001b[38;5;124;43m\"\u001b[39;49m\u001b[38;5;124;43mpush\u001b[39;49m\u001b[38;5;124;43m\"\u001b[39;49m\u001b[43m,\u001b[49m\u001b[43m \u001b[49m\u001b[38;5;124;43m\"\u001b[39;49m\u001b[38;5;124;43m-u\u001b[39;49m\u001b[38;5;124;43m\"\u001b[39;49m\u001b[43m,\u001b[49m\u001b[43m \u001b[49m\u001b[38;5;124;43m\"\u001b[39;49m\u001b[38;5;124;43morigin\u001b[39;49m\u001b[38;5;124;43m\"\u001b[39;49m\u001b[43m,\u001b[49m\u001b[43m \u001b[49m\u001b[38;5;124;43m\"\u001b[39;49m\u001b[38;5;124;43mmaster\u001b[39;49m\u001b[38;5;124;43m\"\u001b[39;49m\u001b[43m]\u001b[49m\u001b[43m)\u001b[49m\n\u001b[0;32m      3\u001b[0m \u001b[38;5;28mprint\u001b[39m(\u001b[38;5;124m\"\u001b[39m\u001b[38;5;124mPushed changes to remote repository on branch \u001b[39m\u001b[38;5;124m'\u001b[39m\u001b[38;5;124mmaster\u001b[39m\u001b[38;5;124m'\u001b[39m\u001b[38;5;124m.\u001b[39m\u001b[38;5;124m\"\u001b[39m)\n\u001b[0;32m      5\u001b[0m \u001b[38;5;28mprint\u001b[39m(\u001b[38;5;124m\"\u001b[39m\u001b[38;5;124mAll commands executed successfully.\u001b[39m\u001b[38;5;124m\"\u001b[39m)\n",
      "Cell \u001b[1;32mIn[5], line 7\u001b[0m, in \u001b[0;36mrun_command\u001b[1;34m(command)\u001b[0m\n\u001b[0;32m      5\u001b[0m \u001b[38;5;28;01mdef\u001b[39;00m \u001b[38;5;21mrun_command\u001b[39m(command):\n\u001b[0;32m      6\u001b[0m     \u001b[38;5;28;01mtry\u001b[39;00m:\n\u001b[1;32m----> 7\u001b[0m         result \u001b[38;5;241m=\u001b[39m \u001b[43msubprocess\u001b[49m\u001b[38;5;241;43m.\u001b[39;49m\u001b[43mrun\u001b[49m\u001b[43m(\u001b[49m\u001b[43mcommand\u001b[49m\u001b[43m,\u001b[49m\u001b[43m \u001b[49m\u001b[43mcapture_output\u001b[49m\u001b[38;5;241;43m=\u001b[39;49m\u001b[38;5;28;43;01mTrue\u001b[39;49;00m\u001b[43m,\u001b[49m\u001b[43m \u001b[49m\u001b[43mtext\u001b[49m\u001b[38;5;241;43m=\u001b[39;49m\u001b[38;5;28;43;01mTrue\u001b[39;49;00m\u001b[43m,\u001b[49m\u001b[43m \u001b[49m\u001b[43mcheck\u001b[49m\u001b[38;5;241;43m=\u001b[39;49m\u001b[38;5;28;43;01mTrue\u001b[39;49;00m\u001b[43m)\u001b[49m\n\u001b[0;32m      8\u001b[0m         \u001b[38;5;28mprint\u001b[39m(result\u001b[38;5;241m.\u001b[39mstdout)\n\u001b[0;32m      9\u001b[0m     \u001b[38;5;28;01mexcept\u001b[39;00m subprocess\u001b[38;5;241m.\u001b[39mCalledProcessError \u001b[38;5;28;01mas\u001b[39;00m e:\n\u001b[0;32m     10\u001b[0m         \u001b[38;5;66;03m# 忽略 \"does not provide shell access\" 错误\u001b[39;00m\n",
      "File \u001b[1;32m~\\miniconda3\\envs\\dl\\lib\\subprocess.py:528\u001b[0m, in \u001b[0;36mrun\u001b[1;34m(input, capture_output, timeout, check, *popenargs, **kwargs)\u001b[0m\n\u001b[0;32m    526\u001b[0m     retcode \u001b[38;5;241m=\u001b[39m process\u001b[38;5;241m.\u001b[39mpoll()\n\u001b[0;32m    527\u001b[0m     \u001b[38;5;28;01mif\u001b[39;00m check \u001b[38;5;129;01mand\u001b[39;00m retcode:\n\u001b[1;32m--> 528\u001b[0m         \u001b[38;5;28;01mraise\u001b[39;00m CalledProcessError(retcode, process\u001b[38;5;241m.\u001b[39margs,\n\u001b[0;32m    529\u001b[0m                                  output\u001b[38;5;241m=\u001b[39mstdout, stderr\u001b[38;5;241m=\u001b[39mstderr)\n\u001b[0;32m    530\u001b[0m \u001b[38;5;28;01mreturn\u001b[39;00m CompletedProcess(process\u001b[38;5;241m.\u001b[39margs, retcode, stdout, stderr)\n",
      "\u001b[1;31mCalledProcessError\u001b[0m: Command '['git', 'push', '-u', 'origin', 'master']' returned non-zero exit status 128."
     ]
    }
   ],
   "source": [
    "# 9. 推送到远程仓库\n",
    "run_command([\"git\", \"push\", \"-u\", \"origin\", \"master\"])\n",
    "print(\"Pushed changes to remote repository on branch 'master'.\")\n",
    "\n",
    "print(\"All commands executed successfully.\")\n"
   ]
  },
  {
   "cell_type": "code",
   "execution_count": null,
   "id": "64253b77-a985-4d98-bccc-f8eb2a4d9eb3",
   "metadata": {},
   "outputs": [],
   "source": [
    "import git\n",
    "\n",
    "repo_path = '.'  # 假设当前目录是 Git 仓库\n",
    "repo = git.Repo(repo_path)\n",
    "\n",
    "try:\n",
    "    origin = repo.remote(name='origin')\n",
    "    origin.push(refspec='master:master', set_upstream=True)\n",
    "    print(\"Push to origin/master successful.\")\n",
    "except Exception as e:\n",
    "    print(f\"Error during push: {e}\")"
   ]
  }
 ],
 "metadata": {
  "kernelspec": {
   "display_name": "Python 3 (ipykernel)",
   "language": "python",
   "name": "python3"
  },
  "language_info": {
   "codemirror_mode": {
    "name": "ipython",
    "version": 3
   },
   "file_extension": ".py",
   "mimetype": "text/x-python",
   "name": "python",
   "nbconvert_exporter": "python",
   "pygments_lexer": "ipython3",
   "version": "3.9.19"
  }
 },
 "nbformat": 4,
 "nbformat_minor": 5
}
